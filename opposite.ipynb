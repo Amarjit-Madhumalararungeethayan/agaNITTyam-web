{
 "cells": [
  {
   "cell_type": "code",
   "execution_count": 1,
   "id": "619ad56e",
   "metadata": {},
   "outputs": [
    {
     "name": "stdout",
     "output_type": "stream",
     "text": [
      "Requirement already satisfied: neo4j in /Users/amarjit/opt/anaconda3/lib/python3.9/site-packages (5.19.0)\n",
      "Requirement already satisfied: pytz in /Users/amarjit/opt/anaconda3/lib/python3.9/site-packages (from neo4j) (2022.1)\n",
      "Note: you may need to restart the kernel to use updated packages.\n"
     ]
    }
   ],
   "source": [
    "pip install neo4j"
   ]
  },
  {
   "cell_type": "code",
   "execution_count": 2,
   "id": "4195fad7",
   "metadata": {},
   "outputs": [],
   "source": [
    "from neo4j import GraphDatabase"
   ]
  },
  {
   "cell_type": "code",
   "execution_count": 3,
   "id": "bee1f53d",
   "metadata": {},
   "outputs": [],
   "source": [
    "#driver=GraphDatabase.driver(uri=\"bolt://localhost:7687/neo4j\")\n",
    "#if database has as userid & pwd, use\n",
    "driver=GraphDatabase.driver(uri=\"neo4j+s://85742a8c.databases.neo4j.io\", auth=(\"neo4j\", \"uvXA3_uvoqrZJbz8igwN-YSN3xgdyDUQpMwsKGT6f6g\"))\n",
    "session=driver.session()"
   ]
  },
  {
   "cell_type": "code",
   "execution_count": 8,
   "id": "0e494fe4",
   "metadata": {},
   "outputs": [],
   "source": [
    "def preprocess_result(result):\n",
    "    preprocessed_data = []\n",
    "    for record in result:\n",
    "        preprocessed_data.append(record)\n",
    "    return preprocessed_data[0]"
   ]
  },
  {
   "cell_type": "code",
   "execution_count": 15,
   "id": "5a4d69d0",
   "metadata": {
    "tags": [
     "capture_output"
    ]
   },
   "outputs": [
    {
     "name": "stdout",
     "output_type": "stream",
     "text": [
      "<Record p=<Path start=<Node element_id='4:7aa7e805-ae53-4db8-a2ee-292a1b5b500b:496' labels=frozenset({'பண்புப்பெயர்'}) properties={'neo4jImportId': 504, 'lemma': 'தோன்றும்', 'line_text': 'தோன்றும்\\tதெரிகிறது', 'annotator': 1, 'line_id': 489}> end=<Node element_id='4:7aa7e805-ae53-4db8-a2ee-292a1b5b500b:497' labels=frozenset({'பண்புப்பெயர்'}) properties={'neo4jImportId': 505, 'lemma': 'தெரிகிறது', 'line_text': 'தோன்றும்\\tதெரிகிறது', 'annotator': 1, 'line_id': 489}> size=1>>\n"
     ]
    }
   ],
   "source": [
    "query=\"\"\"\n",
    "MATCH p=()-[r:`எதிர்ச்சொல்`]->()\n",
    "WITH p, RAND() AS random\n",
    "RETURN p\n",
    "ORDER BY random\n",
    "LIMIT 1\n",
    "\"\"\"\n",
    "results=session.run(query)\n",
    "\n",
    "preprocessed_data = preprocess_result(results)\n",
    "\n",
    "print(preprocessed_data)"
   ]
  },
  {
   "cell_type": "code",
   "execution_count": null,
   "id": "755ea792",
   "metadata": {},
   "outputs": [],
   "source": []
  },
  {
   "cell_type": "code",
   "execution_count": null,
   "id": "4d0ef13e",
   "metadata": {},
   "outputs": [],
   "source": []
  }
 ],
 "metadata": {
  "celltoolbar": "Tags",
  "kernelspec": {
   "display_name": "Python 3 (ipykernel)",
   "language": "python",
   "name": "python3"
  },
  "language_info": {
   "codemirror_mode": {
    "name": "ipython",
    "version": 3
   },
   "file_extension": ".py",
   "mimetype": "text/x-python",
   "name": "python",
   "nbconvert_exporter": "python",
   "pygments_lexer": "ipython3",
   "version": "3.9.13"
  }
 },
 "nbformat": 4,
 "nbformat_minor": 5
}
