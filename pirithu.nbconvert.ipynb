{
 "cells": [
  {
   "cell_type": "code",
   "execution_count": 1,
   "id": "619ad56e",
   "metadata": {
    "execution": {
     "iopub.execute_input": "2024-05-02T17:41:06.431827Z",
     "iopub.status.busy": "2024-05-02T17:41:06.431298Z",
     "iopub.status.idle": "2024-05-02T17:41:07.133089Z",
     "shell.execute_reply": "2024-05-02T17:41:07.132510Z"
    }
   },
   "outputs": [
    {
     "name": "stdout",
     "output_type": "stream",
     "text": [
      "Requirement already satisfied: neo4j in /Users/amarjit/Desktop/FYP/venv/lib/python3.9/site-packages (5.19.0)\r\n",
      "Requirement already satisfied: pytz in /Users/amarjit/Desktop/FYP/venv/lib/python3.9/site-packages (from neo4j) (2024.1)\r\n"
     ]
    },
    {
     "name": "stdout",
     "output_type": "stream",
     "text": [
      "Note: you may need to restart the kernel to use updated packages.\n"
     ]
    }
   ],
   "source": [
    "pip install neo4j"
   ]
  },
  {
   "cell_type": "code",
   "execution_count": 2,
   "id": "4195fad7",
   "metadata": {
    "execution": {
     "iopub.execute_input": "2024-05-02T17:41:07.157639Z",
     "iopub.status.busy": "2024-05-02T17:41:07.157297Z",
     "iopub.status.idle": "2024-05-02T17:41:07.237774Z",
     "shell.execute_reply": "2024-05-02T17:41:07.237507Z"
    }
   },
   "outputs": [],
   "source": [
    "from neo4j import GraphDatabase"
   ]
  },
  {
   "cell_type": "code",
   "execution_count": 3,
   "id": "bee1f53d",
   "metadata": {
    "execution": {
     "iopub.execute_input": "2024-05-02T17:41:07.239513Z",
     "iopub.status.busy": "2024-05-02T17:41:07.239419Z",
     "iopub.status.idle": "2024-05-02T17:41:07.241354Z",
     "shell.execute_reply": "2024-05-02T17:41:07.241122Z"
    }
   },
   "outputs": [],
   "source": [
    "driver=GraphDatabase.driver(uri=\"bolt://localhost:7687/neo4j\")\n",
    "#if database has as userid & pwd, use\n",
    "#driver=GraphDatabase.driver(uri=\"bolt://localhost:7687/neo4j\", auth=(\"neo4j\", \"Password\"))\n",
    "session=driver.session()"
   ]
  },
  {
   "cell_type": "code",
   "execution_count": 4,
   "id": "0e494fe4",
   "metadata": {
    "execution": {
     "iopub.execute_input": "2024-05-02T17:41:07.257043Z",
     "iopub.status.busy": "2024-05-02T17:41:07.256940Z",
     "iopub.status.idle": "2024-05-02T17:41:07.258785Z",
     "shell.execute_reply": "2024-05-02T17:41:07.258535Z"
    }
   },
   "outputs": [],
   "source": [
    "def preprocess_result(result):\n",
    "    preprocessed_data = []\n",
    "    for record in result:\n",
    "        preprocessed_data.append(record)\n",
    "    return preprocessed_data[0]"
   ]
  },
  {
   "cell_type": "code",
   "execution_count": 5,
   "id": "5a4d69d0",
   "metadata": {
    "execution": {
     "iopub.execute_input": "2024-05-02T17:41:07.260332Z",
     "iopub.status.busy": "2024-05-02T17:41:07.260231Z",
     "iopub.status.idle": "2024-05-02T17:41:07.297874Z",
     "shell.execute_reply": "2024-05-02T17:41:07.297601Z"
    },
    "tags": [
     "capture_output"
    ]
   },
   "outputs": [
    {
     "name": "stdout",
     "output_type": "stream",
     "text": [
      "<Record p=<Path start=<Node element_id='4:7aa7e805-ae53-4db8-a2ee-292a1b5b500b:877' labels=frozenset({'ஒன்றாக'}) properties={'neo4jImportId': 891, 'lemma': 'வேதி + உரங்கள்', 'line_text': 'வேதியுரங்கள்\\tவேதி\\tஉரங்கள்', 'annotator': 1, 'line_id': 710}> end=<Node element_id='4:7aa7e805-ae53-4db8-a2ee-292a1b5b500b:874' labels=frozenset({'பொருட்பெயர்'}) properties={'neo4jImportId': 888, 'lemma': 'வேதியுரங்கள்', 'line_text': 'வேதியுரங்கள்\\tவேதி\\tஉரங்கள்', 'annotator': 1, 'line_id': 710}> size=1>>\n"
     ]
    }
   ],
   "source": [
    "query=\"\"\"\n",
    "MATCH p=()-[r:`செருத்தல்`]->()\n",
    "WITH p, RAND() AS random\n",
    "RETURN p\n",
    "ORDER BY random\n",
    "LIMIT 1\n",
    "\"\"\"\n",
    "results=session.run(query)\n",
    "\n",
    "preprocessed_data = preprocess_result(results)\n",
    "\n",
    "print(preprocessed_data)"
   ]
  },
  {
   "cell_type": "code",
   "execution_count": null,
   "id": "755ea792",
   "metadata": {},
   "outputs": [],
   "source": []
  },
  {
   "cell_type": "code",
   "execution_count": null,
   "id": "4d0ef13e",
   "metadata": {},
   "outputs": [],
   "source": []
  }
 ],
 "metadata": {
  "celltoolbar": "Tags",
  "kernelspec": {
   "display_name": "Python 3 (ipykernel)",
   "language": "python",
   "name": "python3"
  },
  "language_info": {
   "codemirror_mode": {
    "name": "ipython",
    "version": 3
   },
   "file_extension": ".py",
   "mimetype": "text/x-python",
   "name": "python",
   "nbconvert_exporter": "python",
   "pygments_lexer": "ipython3",
   "version": "3.9.15"
  }
 },
 "nbformat": 4,
 "nbformat_minor": 5
}
