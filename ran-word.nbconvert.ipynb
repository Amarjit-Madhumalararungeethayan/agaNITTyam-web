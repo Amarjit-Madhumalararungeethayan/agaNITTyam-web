{
 "cells": [
  {
   "cell_type": "code",
   "execution_count": 1,
   "id": "619ad56e",
   "metadata": {
    "execution": {
     "iopub.execute_input": "2024-05-19T10:11:53.971115Z",
     "iopub.status.busy": "2024-05-19T10:11:53.970512Z",
     "iopub.status.idle": "2024-05-19T10:11:54.689369Z",
     "shell.execute_reply": "2024-05-19T10:11:54.688827Z"
    }
   },
   "outputs": [
    {
     "name": "stdout",
     "output_type": "stream",
     "text": [
      "Requirement already satisfied: neo4j in /Users/amarjit/Desktop/FYP/venv/lib/python3.9/site-packages (5.19.0)\r\n"
     ]
    },
    {
     "name": "stdout",
     "output_type": "stream",
     "text": [
      "Requirement already satisfied: pytz in /Users/amarjit/Desktop/FYP/venv/lib/python3.9/site-packages (from neo4j) (2024.1)\r\n"
     ]
    },
    {
     "name": "stdout",
     "output_type": "stream",
     "text": [
      "Note: you may need to restart the kernel to use updated packages.\n"
     ]
    }
   ],
   "source": [
    "pip install neo4j"
   ]
  },
  {
   "cell_type": "code",
   "execution_count": 2,
   "id": "4195fad7",
   "metadata": {
    "execution": {
     "iopub.execute_input": "2024-05-19T10:11:54.692389Z",
     "iopub.status.busy": "2024-05-19T10:11:54.692158Z",
     "iopub.status.idle": "2024-05-19T10:11:54.768362Z",
     "shell.execute_reply": "2024-05-19T10:11:54.768097Z"
    }
   },
   "outputs": [],
   "source": [
    "from neo4j import GraphDatabase"
   ]
  },
  {
   "cell_type": "code",
   "execution_count": 3,
   "id": "bee1f53d",
   "metadata": {
    "execution": {
     "iopub.execute_input": "2024-05-19T10:11:54.770136Z",
     "iopub.status.busy": "2024-05-19T10:11:54.770042Z",
     "iopub.status.idle": "2024-05-19T10:11:54.771980Z",
     "shell.execute_reply": "2024-05-19T10:11:54.771759Z"
    }
   },
   "outputs": [],
   "source": [
    "#driver=GraphDatabase.driver(uri=\"bolt://localhost:7687/neo4j\")\n",
    "#if database has as userid & pwd, use\n",
    "driver=GraphDatabase.driver(uri=\"neo4j+s://85742a8c.databases.neo4j.io\", auth=(\"neo4j\", \"uvXA3_uvoqrZJbz8igwN-YSN3xgdyDUQpMwsKGT6f6g\"))\n",
    "session=driver.session()"
   ]
  },
  {
   "cell_type": "code",
   "execution_count": 4,
   "id": "0e494fe4",
   "metadata": {
    "execution": {
     "iopub.execute_input": "2024-05-19T10:11:54.773434Z",
     "iopub.status.busy": "2024-05-19T10:11:54.773351Z",
     "iopub.status.idle": "2024-05-19T10:11:54.775158Z",
     "shell.execute_reply": "2024-05-19T10:11:54.774919Z"
    }
   },
   "outputs": [],
   "source": [
    "def preprocess_result(result):\n",
    "    preprocessed_data = []\n",
    "    for record in result:\n",
    "        preprocessed_data.append(record)\n",
    "    return preprocessed_data[0]"
   ]
  },
  {
   "cell_type": "code",
   "execution_count": 5,
   "id": "5a4d69d0",
   "metadata": {
    "execution": {
     "iopub.execute_input": "2024-05-19T10:11:54.783631Z",
     "iopub.status.busy": "2024-05-19T10:11:54.783523Z",
     "iopub.status.idle": "2024-05-19T10:11:55.557803Z",
     "shell.execute_reply": "2024-05-19T10:11:55.556500Z"
    },
    "tags": [
     "capture_output"
    ]
   },
   "outputs": [
    {
     "name": "stdout",
     "output_type": "stream",
     "text": [
      "<Record n=<Node element_id='4:c97b5419-be85-4bd6-8c42-3ed4984afc29:358' labels=frozenset({'தொழிற்பெயர்'}) properties={'neo4jImportId': 365, 'lemma': 'மறுத்தல்', 'line_text': 'ஏற்றல்\\tமறுத்தல்', 'annotator': 1, 'line_id': 307}>>\n"
     ]
    }
   ],
   "source": [
    "query=\"\"\"\n",
    "MATCH (n) WITH n, RAND() AS random\n",
    "RETURN n\n",
    "ORDER BY random\n",
    "LIMIT 1\n",
    "\"\"\"\n",
    "results=session.run(query)\n",
    "\n",
    "preprocessed_data = preprocess_result(results)\n",
    "\n",
    "print(preprocessed_data)"
   ]
  },
  {
   "cell_type": "code",
   "execution_count": null,
   "id": "755ea792",
   "metadata": {},
   "outputs": [],
   "source": []
  },
  {
   "cell_type": "code",
   "execution_count": null,
   "id": "4d0ef13e",
   "metadata": {},
   "outputs": [],
   "source": []
  }
 ],
 "metadata": {
  "celltoolbar": "Tags",
  "kernelspec": {
   "display_name": "Python 3 (ipykernel)",
   "language": "python",
   "name": "python3"
  },
  "language_info": {
   "codemirror_mode": {
    "name": "ipython",
    "version": 3
   },
   "file_extension": ".py",
   "mimetype": "text/x-python",
   "name": "python",
   "nbconvert_exporter": "python",
   "pygments_lexer": "ipython3",
   "version": "3.9.15"
  }
 },
 "nbformat": 4,
 "nbformat_minor": 5
}
