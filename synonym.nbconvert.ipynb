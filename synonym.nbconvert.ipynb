{
 "cells": [
  {
   "cell_type": "code",
   "execution_count": 1,
   "id": "619ad56e",
   "metadata": {
    "execution": {
     "iopub.execute_input": "2024-05-18T09:38:48.317809Z",
     "iopub.status.busy": "2024-05-18T09:38:48.317461Z",
     "iopub.status.idle": "2024-05-18T09:38:49.035498Z",
     "shell.execute_reply": "2024-05-18T09:38:49.035105Z"
    }
   },
   "outputs": [
    {
     "name": "stdout",
     "output_type": "stream",
     "text": [
      "Requirement already satisfied: neo4j in /Users/amarjit/Desktop/FYP/venv/lib/python3.9/site-packages (5.19.0)\r\n",
      "Requirement already satisfied: pytz in /Users/amarjit/Desktop/FYP/venv/lib/python3.9/site-packages (from neo4j) (2024.1)\r\n"
     ]
    },
    {
     "name": "stdout",
     "output_type": "stream",
     "text": [
      "Note: you may need to restart the kernel to use updated packages.\n"
     ]
    }
   ],
   "source": [
    "pip install neo4j"
   ]
  },
  {
   "cell_type": "code",
   "execution_count": 2,
   "id": "4195fad7",
   "metadata": {
    "execution": {
     "iopub.execute_input": "2024-05-18T09:38:49.045821Z",
     "iopub.status.busy": "2024-05-18T09:38:49.045642Z",
     "iopub.status.idle": "2024-05-18T09:38:49.116193Z",
     "shell.execute_reply": "2024-05-18T09:38:49.115920Z"
    }
   },
   "outputs": [],
   "source": [
    "from neo4j import GraphDatabase"
   ]
  },
  {
   "cell_type": "code",
   "execution_count": 3,
   "id": "bee1f53d",
   "metadata": {
    "execution": {
     "iopub.execute_input": "2024-05-18T09:38:49.118057Z",
     "iopub.status.busy": "2024-05-18T09:38:49.117957Z",
     "iopub.status.idle": "2024-05-18T09:38:49.119931Z",
     "shell.execute_reply": "2024-05-18T09:38:49.119684Z"
    }
   },
   "outputs": [],
   "source": [
    "#driver=GraphDatabase.driver(uri=\"bolt://localhost:7687/neo4j\")\n",
    "#if database has as userid & pwd, use\n",
    "driver=GraphDatabase.driver(uri=\"neo4j+s://85742a8c.databases.neo4j.io\", auth=(\"neo4j\", \"uvXA3_uvoqrZJbz8igwN-YSN3xgdyDUQpMwsKGT6f6g\"))\n",
    "session=driver.session()"
   ]
  },
  {
   "cell_type": "code",
   "execution_count": 4,
   "id": "0e494fe4",
   "metadata": {
    "execution": {
     "iopub.execute_input": "2024-05-18T09:38:49.121491Z",
     "iopub.status.busy": "2024-05-18T09:38:49.121387Z",
     "iopub.status.idle": "2024-05-18T09:38:49.123161Z",
     "shell.execute_reply": "2024-05-18T09:38:49.122899Z"
    }
   },
   "outputs": [],
   "source": [
    "def preprocess_result(result):\n",
    "    preprocessed_data = []\n",
    "    for record in result:\n",
    "        preprocessed_data.append(record)\n",
    "    return preprocessed_data[0]"
   ]
  },
  {
   "cell_type": "code",
   "execution_count": 5,
   "id": "5a4d69d0",
   "metadata": {
    "execution": {
     "iopub.execute_input": "2024-05-18T09:38:49.124628Z",
     "iopub.status.busy": "2024-05-18T09:38:49.124527Z",
     "iopub.status.idle": "2024-05-18T09:38:50.122833Z",
     "shell.execute_reply": "2024-05-18T09:38:50.122167Z"
    },
    "tags": [
     "capture_output"
    ]
   },
   "outputs": [
    {
     "name": "stdout",
     "output_type": "stream",
     "text": [
      "<Record p=<Path start=<Node element_id='4:c97b5419-be85-4bd6-8c42-3ed4984afc29:558' labels=frozenset({'காலப்பெயர்'}) properties={'neo4jImportId': 567, 'lemma': 'விடியல்', 'line_text': 'விடியல்\\tவிடியற்காலை', 'annotator': 1, 'line_id': 526}> end=<Node element_id='4:c97b5419-be85-4bd6-8c42-3ed4984afc29:559' labels=frozenset({'காலப்பெயர்'}) properties={'neo4jImportId': 568, 'lemma': 'விடியற்காலை', 'line_text': 'விடியல்\\tவிடியற்காலை', 'annotator': 1, 'line_id': 526}> size=1>>\n"
     ]
    }
   ],
   "source": [
    "query=\"\"\"\n",
    "MATCH p=()-[r:`இணைப்பொருட்ச்சொல்`]->()\n",
    "WITH p, RAND() AS random\n",
    "RETURN p\n",
    "ORDER BY random\n",
    "LIMIT 1\n",
    "\"\"\"\n",
    "results=session.run(query)\n",
    "\n",
    "preprocessed_data = preprocess_result(results)\n",
    "\n",
    "print(preprocessed_data)"
   ]
  },
  {
   "cell_type": "code",
   "execution_count": null,
   "id": "755ea792",
   "metadata": {},
   "outputs": [],
   "source": []
  },
  {
   "cell_type": "code",
   "execution_count": null,
   "id": "4d0ef13e",
   "metadata": {},
   "outputs": [],
   "source": []
  }
 ],
 "metadata": {
  "celltoolbar": "Tags",
  "kernelspec": {
   "display_name": "Python 3 (ipykernel)",
   "language": "python",
   "name": "python3"
  },
  "language_info": {
   "codemirror_mode": {
    "name": "ipython",
    "version": 3
   },
   "file_extension": ".py",
   "mimetype": "text/x-python",
   "name": "python",
   "nbconvert_exporter": "python",
   "pygments_lexer": "ipython3",
   "version": "3.9.15"
  }
 },
 "nbformat": 4,
 "nbformat_minor": 5
}
