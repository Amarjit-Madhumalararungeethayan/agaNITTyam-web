{
 "cells": [
  {
   "cell_type": "markdown",
   "id": "5642f595",
   "metadata": {
    "tags": [
     "papermill-error-cell-tag"
    ]
   },
   "source": [
    "<span style=\"color:red; font-family:Helvetica Neue, Helvetica, Arial, sans-serif; font-size:2em;\">An Exception was encountered at '<a href=\"#papermill-error-cell\">In [7]</a>'.</span>"
   ]
  },
  {
   "cell_type": "code",
   "execution_count": 1,
   "id": "7e2e1a2a",
   "metadata": {
    "execution": {
     "iopub.execute_input": "2024-05-03T17:49:38.614513Z",
     "iopub.status.busy": "2024-05-03T17:49:38.614050Z",
     "iopub.status.idle": "2024-05-03T17:49:38.625192Z",
     "shell.execute_reply": "2024-05-03T17:49:38.624276Z"
    },
    "papermill": {
     "duration": 0.01973,
     "end_time": "2024-05-03T17:49:38.628426",
     "exception": false,
     "start_time": "2024-05-03T17:49:38.608696",
     "status": "completed"
    },
    "tags": [
     "injected-parameters"
    ]
   },
   "outputs": [],
   "source": [
    "# Parameters\n",
    "res = \"\\u0b9a\\u0bbe\\u0ba4\\u0bbf\\u0b95\\u0bcd\\u0b95\\n\"\n",
    "relation = \"\\u0b8e\\u0ba4\\u0bbf\\u0bb0\\u0bcd\\u0b9a\\u0bcd\\u0b9a\\u0bca\\u0bb2\\u0bcd\"\n"
   ]
  },
  {
   "cell_type": "code",
   "execution_count": 2,
   "id": "619ad56e",
   "metadata": {
    "execution": {
     "iopub.execute_input": "2024-05-03T17:49:38.636092Z",
     "iopub.status.busy": "2024-05-03T17:49:38.635728Z",
     "iopub.status.idle": "2024-05-03T17:49:39.337527Z",
     "shell.execute_reply": "2024-05-03T17:49:39.337151Z"
    },
    "papermill": {
     "duration": 0.707015,
     "end_time": "2024-05-03T17:49:39.338637",
     "exception": false,
     "start_time": "2024-05-03T17:49:38.631622",
     "status": "completed"
    },
    "tags": []
   },
   "outputs": [
    {
     "name": "stdout",
     "output_type": "stream",
     "text": [
      "Requirement already satisfied: neo4j in /Users/amarjit/Desktop/FYP/venv/lib/python3.9/site-packages (5.19.0)\r\n",
      "Requirement already satisfied: pytz in /Users/amarjit/Desktop/FYP/venv/lib/python3.9/site-packages (from neo4j) (2024.1)\r\n"
     ]
    },
    {
     "name": "stdout",
     "output_type": "stream",
     "text": [
      "Note: you may need to restart the kernel to use updated packages.\n"
     ]
    }
   ],
   "source": [
    "pip install neo4j"
   ]
  },
  {
   "cell_type": "code",
   "execution_count": 3,
   "id": "7f81d958",
   "metadata": {
    "execution": {
     "iopub.execute_input": "2024-05-03T17:49:39.342084Z",
     "iopub.status.busy": "2024-05-03T17:49:39.341819Z",
     "iopub.status.idle": "2024-05-03T17:49:39.374074Z",
     "shell.execute_reply": "2024-05-03T17:49:39.373786Z"
    },
    "papermill": {
     "duration": 0.035057,
     "end_time": "2024-05-03T17:49:39.375127",
     "exception": false,
     "start_time": "2024-05-03T17:49:39.340070",
     "status": "completed"
    },
    "tags": []
   },
   "outputs": [],
   "source": [
    "%load_ext cypher"
   ]
  },
  {
   "cell_type": "code",
   "execution_count": 4,
   "id": "4195fad7",
   "metadata": {
    "execution": {
     "iopub.execute_input": "2024-05-03T17:49:39.377609Z",
     "iopub.status.busy": "2024-05-03T17:49:39.377457Z",
     "iopub.status.idle": "2024-05-03T17:49:39.443237Z",
     "shell.execute_reply": "2024-05-03T17:49:39.442958Z"
    },
    "papermill": {
     "duration": 0.068205,
     "end_time": "2024-05-03T17:49:39.444358",
     "exception": false,
     "start_time": "2024-05-03T17:49:39.376153",
     "status": "completed"
    },
    "tags": []
   },
   "outputs": [],
   "source": [
    "from neo4j import GraphDatabase"
   ]
  },
  {
   "cell_type": "code",
   "execution_count": 5,
   "id": "bee1f53d",
   "metadata": {
    "execution": {
     "iopub.execute_input": "2024-05-03T17:49:39.447279Z",
     "iopub.status.busy": "2024-05-03T17:49:39.447139Z",
     "iopub.status.idle": "2024-05-03T17:49:39.449249Z",
     "shell.execute_reply": "2024-05-03T17:49:39.448982Z"
    },
    "papermill": {
     "duration": 0.004679,
     "end_time": "2024-05-03T17:49:39.450228",
     "exception": false,
     "start_time": "2024-05-03T17:49:39.445549",
     "status": "completed"
    },
    "tags": []
   },
   "outputs": [],
   "source": [
    "driver=GraphDatabase.driver(uri=\"bolt://localhost:7687/neo4j\")\n",
    "#if database has as userid & pwd, use\n",
    "#driver=GraphDatabase.driver(uri=\"bolt://localhost:7687/neo4j\", auth=(\"neo4j\", \"Password\"))\n",
    "session=driver.session()"
   ]
  },
  {
   "cell_type": "code",
   "execution_count": 6,
   "id": "0e494fe4",
   "metadata": {
    "execution": {
     "iopub.execute_input": "2024-05-03T17:49:39.452954Z",
     "iopub.status.busy": "2024-05-03T17:49:39.452822Z",
     "iopub.status.idle": "2024-05-03T17:49:39.454702Z",
     "shell.execute_reply": "2024-05-03T17:49:39.454432Z"
    },
    "papermill": {
     "duration": 0.004302,
     "end_time": "2024-05-03T17:49:39.455648",
     "exception": false,
     "start_time": "2024-05-03T17:49:39.451346",
     "status": "completed"
    },
    "tags": []
   },
   "outputs": [],
   "source": [
    "def preprocess_result(result):\n",
    "    preprocessed_data = []\n",
    "    for record in result:\n",
    "        preprocessed_data.append(record)\n",
    "    return preprocessed_data[0]"
   ]
  },
  {
   "cell_type": "markdown",
   "id": "c4c3432e",
   "metadata": {
    "tags": [
     "papermill-error-cell-tag"
    ]
   },
   "source": [
    "<span id=\"papermill-error-cell\" style=\"color:red; font-family:Helvetica Neue, Helvetica, Arial, sans-serif; font-size:2em;\">Execution using papermill encountered an exception here and stopped:</span>"
   ]
  },
  {
   "cell_type": "code",
   "execution_count": 7,
   "id": "5a4d69d0",
   "metadata": {
    "execution": {
     "iopub.execute_input": "2024-05-03T17:49:39.458445Z",
     "iopub.status.busy": "2024-05-03T17:49:39.458290Z",
     "iopub.status.idle": "2024-05-03T17:49:39.771733Z",
     "shell.execute_reply": "2024-05-03T17:49:39.771226Z"
    },
    "papermill": {
     "duration": 0.315704,
     "end_time": "2024-05-03T17:49:39.772470",
     "exception": true,
     "start_time": "2024-05-03T17:49:39.456766",
     "status": "failed"
    },
    "tags": [
     "capture_output"
    ]
   },
   "outputs": [
    {
     "name": "stdout",
     "output_type": "stream",
     "text": [
      "Format: (http|https)://username:password@hostname:port/db/name\n"
     ]
    },
    {
     "ename": "NotFoundError",
     "evalue": "Code [404]: Not Found. Nothing matches the given URI.\nUnable get root",
     "output_type": "error",
     "traceback": [
      "\u001b[0;31m---------------------------------------------------------------------------\u001b[0m",
      "\u001b[0;31mNotFoundError\u001b[0m                             Traceback (most recent call last)",
      "Cell \u001b[0;32mIn[7], line 6\u001b[0m\n\u001b[1;32m      1\u001b[0m query\u001b[38;5;241m=\u001b[39m\u001b[38;5;124m\"\"\"\u001b[39m\n\u001b[1;32m      2\u001b[0m \u001b[38;5;124mMATCH (n1)-[r:\u001b[39m\u001b[38;5;132;01m{relation}\u001b[39;00m\u001b[38;5;124m]->(relatedNode)\u001b[39m\n\u001b[1;32m      3\u001b[0m \u001b[38;5;124mWHERE n1.lemma = \u001b[39m\u001b[38;5;132;01m{res}\u001b[39;00m\n\u001b[1;32m      4\u001b[0m \u001b[38;5;124mRETURN relatedNode\u001b[39m\n\u001b[1;32m      5\u001b[0m \u001b[38;5;124m\"\"\"\u001b[39m\n\u001b[0;32m----> 6\u001b[0m \u001b[43mget_ipython\u001b[49m\u001b[43m(\u001b[49m\u001b[43m)\u001b[49m\u001b[38;5;241;43m.\u001b[39;49m\u001b[43mrun_line_magic\u001b[49m\u001b[43m(\u001b[49m\u001b[38;5;124;43m'\u001b[39;49m\u001b[38;5;124;43mcypher\u001b[39;49m\u001b[38;5;124;43m'\u001b[39;49m\u001b[43m,\u001b[49m\u001b[43m \u001b[49m\u001b[38;5;124;43m'\u001b[39;49m\u001b[38;5;132;43;01m{query}\u001b[39;49;00m\u001b[38;5;124;43m'\u001b[39;49m\u001b[43m)\u001b[49m\n\u001b[1;32m      7\u001b[0m results\u001b[38;5;241m=\u001b[39msession\u001b[38;5;241m.\u001b[39mrun(query)\n\u001b[1;32m      9\u001b[0m preprocessed_data \u001b[38;5;241m=\u001b[39m preprocess_result(results)\n",
      "File \u001b[0;32m~/Desktop/FYP/venv/lib/python3.9/site-packages/IPython/core/interactiveshell.py:2456\u001b[0m, in \u001b[0;36mInteractiveShell.run_line_magic\u001b[0;34m(self, magic_name, line, _stack_depth)\u001b[0m\n\u001b[1;32m   2454\u001b[0m     kwargs[\u001b[38;5;124m'\u001b[39m\u001b[38;5;124mlocal_ns\u001b[39m\u001b[38;5;124m'\u001b[39m] \u001b[38;5;241m=\u001b[39m \u001b[38;5;28mself\u001b[39m\u001b[38;5;241m.\u001b[39mget_local_scope(stack_depth)\n\u001b[1;32m   2455\u001b[0m \u001b[38;5;28;01mwith\u001b[39;00m \u001b[38;5;28mself\u001b[39m\u001b[38;5;241m.\u001b[39mbuiltin_trap:\n\u001b[0;32m-> 2456\u001b[0m     result \u001b[38;5;241m=\u001b[39m \u001b[43mfn\u001b[49m\u001b[43m(\u001b[49m\u001b[38;5;241;43m*\u001b[39;49m\u001b[43margs\u001b[49m\u001b[43m,\u001b[49m\u001b[43m \u001b[49m\u001b[38;5;241;43m*\u001b[39;49m\u001b[38;5;241;43m*\u001b[39;49m\u001b[43mkwargs\u001b[49m\u001b[43m)\u001b[49m\n\u001b[1;32m   2458\u001b[0m \u001b[38;5;66;03m# The code below prevents the output from being displayed\u001b[39;00m\n\u001b[1;32m   2459\u001b[0m \u001b[38;5;66;03m# when using magics with decorator @output_can_be_silenced\u001b[39;00m\n\u001b[1;32m   2460\u001b[0m \u001b[38;5;66;03m# when the last Python token in the expression is a ';'.\u001b[39;00m\n\u001b[1;32m   2461\u001b[0m \u001b[38;5;28;01mif\u001b[39;00m \u001b[38;5;28mgetattr\u001b[39m(fn, magic\u001b[38;5;241m.\u001b[39mMAGIC_OUTPUT_CAN_BE_SILENCED, \u001b[38;5;28;01mFalse\u001b[39;00m):\n",
      "File \u001b[0;32m~/Desktop/FYP/venv/lib/python3.9/site-packages/cypher/magic.py:108\u001b[0m, in \u001b[0;36mCypherMagic.execute\u001b[0;34m(self, line, cell, local_ns)\u001b[0m\n\u001b[1;32m    106\u001b[0m user_ns\u001b[38;5;241m.\u001b[39mupdate(local_ns)\n\u001b[1;32m    107\u001b[0m parsed \u001b[38;5;241m=\u001b[39m parse(\u001b[38;5;124m\"\"\"\u001b[39m\u001b[38;5;132;01m{0}\u001b[39;00m\u001b[38;5;130;01m\\n\u001b[39;00m\u001b[38;5;132;01m{1}\u001b[39;00m\u001b[38;5;124m\"\"\"\u001b[39m\u001b[38;5;241m.\u001b[39mformat(line, cell), \u001b[38;5;28mself\u001b[39m)\n\u001b[0;32m--> 108\u001b[0m conn \u001b[38;5;241m=\u001b[39m \u001b[43mConnection\u001b[49m\u001b[38;5;241;43m.\u001b[39;49m\u001b[43mget\u001b[49m\u001b[43m(\u001b[49m\u001b[43mparsed\u001b[49m\u001b[43m[\u001b[49m\u001b[38;5;124;43m'\u001b[39;49m\u001b[38;5;124;43mas\u001b[39;49m\u001b[38;5;124;43m'\u001b[39;49m\u001b[43m]\u001b[49m\u001b[43m \u001b[49m\u001b[38;5;129;43;01mor\u001b[39;49;00m\u001b[43m \u001b[49m\u001b[43mparsed\u001b[49m\u001b[43m[\u001b[49m\u001b[38;5;124;43m'\u001b[39;49m\u001b[38;5;124;43muri\u001b[39;49m\u001b[38;5;124;43m'\u001b[39;49m\u001b[43m]\u001b[49m\u001b[43m,\u001b[49m\u001b[43m \u001b[49m\u001b[43mparsed\u001b[49m\u001b[43m[\u001b[49m\u001b[38;5;124;43m'\u001b[39;49m\u001b[38;5;124;43mas\u001b[39;49m\u001b[38;5;124;43m'\u001b[39;49m\u001b[43m]\u001b[49m\u001b[43m)\u001b[49m\n\u001b[1;32m    109\u001b[0m first_word \u001b[38;5;241m=\u001b[39m parsed[\u001b[38;5;124m'\u001b[39m\u001b[38;5;124mcypher\u001b[39m\u001b[38;5;124m'\u001b[39m]\u001b[38;5;241m.\u001b[39msplit(\u001b[38;5;28;01mNone\u001b[39;00m, \u001b[38;5;241m1\u001b[39m)[:\u001b[38;5;241m1\u001b[39m]\n\u001b[1;32m    110\u001b[0m \u001b[38;5;28;01mif\u001b[39;00m first_word \u001b[38;5;129;01mand\u001b[39;00m first_word[\u001b[38;5;241m0\u001b[39m]\u001b[38;5;241m.\u001b[39mlower() \u001b[38;5;241m==\u001b[39m \u001b[38;5;124m'\u001b[39m\u001b[38;5;124mpersist\u001b[39m\u001b[38;5;124m'\u001b[39m:\n",
      "File \u001b[0;32m~/Desktop/FYP/venv/lib/python3.9/site-packages/cypher/connection.py:47\u001b[0m, in \u001b[0;36mConnection.get\u001b[0;34m(cls, descriptor, alias)\u001b[0m\n\u001b[1;32m     45\u001b[0m         \u001b[38;5;28mcls\u001b[39m\u001b[38;5;241m.\u001b[39mcurrent \u001b[38;5;241m=\u001b[39m conn\n\u001b[1;32m     46\u001b[0m     \u001b[38;5;28;01melse\u001b[39;00m:\n\u001b[0;32m---> 47\u001b[0m         \u001b[38;5;28mcls\u001b[39m\u001b[38;5;241m.\u001b[39mcurrent \u001b[38;5;241m=\u001b[39m \u001b[43mConnection\u001b[49m\u001b[43m(\u001b[49m\u001b[43mdescriptor\u001b[49m\u001b[43m,\u001b[49m\u001b[43m \u001b[49m\u001b[43malias\u001b[49m\u001b[43m)\u001b[49m\n\u001b[1;32m     48\u001b[0m \u001b[38;5;28;01mif\u001b[39;00m \u001b[38;5;28mcls\u001b[39m\u001b[38;5;241m.\u001b[39mcurrent:\n\u001b[1;32m     49\u001b[0m     \u001b[38;5;28;01mreturn\u001b[39;00m \u001b[38;5;28mcls\u001b[39m\u001b[38;5;241m.\u001b[39mcurrent\n",
      "File \u001b[0;32m~/Desktop/FYP/venv/lib/python3.9/site-packages/cypher/connection.py:26\u001b[0m, in \u001b[0;36mConnection.__init__\u001b[0;34m(self, connect_str, alias)\u001b[0m\n\u001b[1;32m     24\u001b[0m         gdb \u001b[38;5;241m=\u001b[39m GraphDatabase(\u001b[38;5;28mself\u001b[39m\u001b[38;5;241m.\u001b[39mconnections[connect_str])\n\u001b[1;32m     25\u001b[0m     \u001b[38;5;28;01melse\u001b[39;00m:\n\u001b[0;32m---> 26\u001b[0m         gdb \u001b[38;5;241m=\u001b[39m \u001b[43mGraphDatabase\u001b[49m\u001b[43m(\u001b[49m\u001b[43mconnect_str\u001b[49m\u001b[43m)\u001b[49m\n\u001b[1;32m     27\u001b[0m         alias \u001b[38;5;241m=\u001b[39m alias \u001b[38;5;129;01mor\u001b[39;00m connect_str\n\u001b[1;32m     28\u001b[0m \u001b[38;5;28;01mexcept\u001b[39;00m:\n",
      "File \u001b[0;32m~/Desktop/FYP/venv/lib/python3.9/site-packages/neo4jrestclient/client.py:83\u001b[0m, in \u001b[0;36mGraphDatabase.__init__\u001b[0;34m(self, url, username, password, cert_file, key_file)\u001b[0m\n\u001b[1;32m     81\u001b[0m     response_json \u001b[38;5;241m=\u001b[39m response\u001b[38;5;241m.\u001b[39mjson()\n\u001b[1;32m     82\u001b[0m \u001b[38;5;28;01melse\u001b[39;00m:\n\u001b[0;32m---> 83\u001b[0m     \u001b[38;5;28;01mraise\u001b[39;00m NotFoundError(response\u001b[38;5;241m.\u001b[39mstatus_code, \u001b[38;5;124m\"\u001b[39m\u001b[38;5;124mUnable get root\u001b[39m\u001b[38;5;124m\"\u001b[39m)\n\u001b[1;32m     84\u001b[0m \u001b[38;5;28;01mif\u001b[39;00m \u001b[38;5;124m\"\u001b[39m\u001b[38;5;124mdata\u001b[39m\u001b[38;5;124m\"\u001b[39m \u001b[38;5;129;01min\u001b[39;00m response_json \u001b[38;5;129;01mand\u001b[39;00m \u001b[38;5;124m\"\u001b[39m\u001b[38;5;124mmanagement\u001b[39m\u001b[38;5;124m\"\u001b[39m \u001b[38;5;129;01min\u001b[39;00m response_json:\n\u001b[1;32m     85\u001b[0m     response \u001b[38;5;241m=\u001b[39m Request(\u001b[38;5;241m*\u001b[39m\u001b[38;5;241m*\u001b[39m\u001b[38;5;28mself\u001b[39m\u001b[38;5;241m.\u001b[39m_auth)\u001b[38;5;241m.\u001b[39mget(response_json[\u001b[38;5;124m\"\u001b[39m\u001b[38;5;124mdata\u001b[39m\u001b[38;5;124m\"\u001b[39m])\n",
      "\u001b[0;31mNotFoundError\u001b[0m: Code [404]: Not Found. Nothing matches the given URI.\nUnable get root"
     ]
    }
   ],
   "source": [
    "query=\"\"\"\n",
    "MATCH (n1)-[r:{relation}]->(relatedNode)\n",
    "WHERE n1.lemma = {res}\n",
    "RETURN relatedNode\n",
    "\"\"\"\n",
    "%cypher {query}\n",
    "results=session.run(query)\n",
    "\n",
    "preprocessed_data = preprocess_result(results)\n",
    "\n",
    "print(preprocessed_data)"
   ]
  },
  {
   "cell_type": "code",
   "execution_count": null,
   "id": "755ea792",
   "metadata": {
    "papermill": {
     "duration": null,
     "end_time": null,
     "exception": null,
     "start_time": null,
     "status": "pending"
    },
    "tags": []
   },
   "outputs": [],
   "source": []
  },
  {
   "cell_type": "code",
   "execution_count": null,
   "id": "4d0ef13e",
   "metadata": {
    "papermill": {
     "duration": null,
     "end_time": null,
     "exception": null,
     "start_time": null,
     "status": "pending"
    },
    "tags": []
   },
   "outputs": [],
   "source": []
  }
 ],
 "metadata": {
  "celltoolbar": "Tags",
  "kernelspec": {
   "display_name": "Python 3 (ipykernel)",
   "language": "python",
   "name": "python3"
  },
  "language_info": {
   "codemirror_mode": {
    "name": "ipython",
    "version": 3
   },
   "file_extension": ".py",
   "mimetype": "text/x-python",
   "name": "python",
   "nbconvert_exporter": "python",
   "pygments_lexer": "ipython3",
   "version": "3.9.15"
  },
  "papermill": {
   "default_parameters": {},
   "duration": 2.122777,
   "end_time": "2024-05-03T17:49:39.894313",
   "environment_variables": {},
   "exception": true,
   "input_path": "node-finder.ipynb",
   "output_path": "node-finder.nbconvert.ipynb",
   "parameters": {
    "relation": "எதிர்ச்சொல்",
    "res": "சாதிக்க\n"
   },
   "start_time": "2024-05-03T17:49:37.771536",
   "version": "2.6.0"
  }
 },
 "nbformat": 4,
 "nbformat_minor": 5
}