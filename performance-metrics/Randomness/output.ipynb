{
 "cells": [
  {
   "cell_type": "code",
   "execution_count": 1,
   "id": "619ad56e",
   "metadata": {
    "execution": {
     "iopub.execute_input": "2024-05-03T04:59:06.583392Z",
     "iopub.status.busy": "2024-05-03T04:59:06.583201Z",
     "iopub.status.idle": "2024-05-03T04:59:07.288551Z",
     "shell.execute_reply": "2024-05-03T04:59:07.288057Z"
    },
    "papermill": {
     "duration": 0.708749,
     "end_time": "2024-05-03T04:59:07.289910",
     "exception": false,
     "start_time": "2024-05-03T04:59:06.581161",
     "status": "completed"
    },
    "tags": []
   },
   "outputs": [
    {
     "name": "stdout",
     "output_type": "stream",
     "text": [
      "Requirement already satisfied: neo4j in /Users/amarjit/Desktop/FYP/venv/lib/python3.9/site-packages (5.19.0)\r\n",
      "Requirement already satisfied: pytz in /Users/amarjit/Desktop/FYP/venv/lib/python3.9/site-packages (from neo4j) (2024.1)\r\n"
     ]
    },
    {
     "name": "stdout",
     "output_type": "stream",
     "text": [
      "Note: you may need to restart the kernel to use updated packages.\n"
     ]
    }
   ],
   "source": [
    "pip install neo4j"
   ]
  },
  {
   "cell_type": "code",
   "execution_count": 2,
   "id": "4195fad7",
   "metadata": {
    "execution": {
     "iopub.execute_input": "2024-05-03T04:59:07.293735Z",
     "iopub.status.busy": "2024-05-03T04:59:07.293533Z",
     "iopub.status.idle": "2024-05-03T04:59:07.366095Z",
     "shell.execute_reply": "2024-05-03T04:59:07.365814Z"
    },
    "papermill": {
     "duration": 0.075635,
     "end_time": "2024-05-03T04:59:07.367187",
     "exception": false,
     "start_time": "2024-05-03T04:59:07.291552",
     "status": "completed"
    },
    "tags": []
   },
   "outputs": [],
   "source": [
    "from neo4j import GraphDatabase"
   ]
  },
  {
   "cell_type": "code",
   "execution_count": 3,
   "id": "bee1f53d",
   "metadata": {
    "execution": {
     "iopub.execute_input": "2024-05-03T04:59:07.369570Z",
     "iopub.status.busy": "2024-05-03T04:59:07.369452Z",
     "iopub.status.idle": "2024-05-03T04:59:07.371343Z",
     "shell.execute_reply": "2024-05-03T04:59:07.371089Z"
    },
    "papermill": {
     "duration": 0.004162,
     "end_time": "2024-05-03T04:59:07.372302",
     "exception": false,
     "start_time": "2024-05-03T04:59:07.368140",
     "status": "completed"
    },
    "tags": []
   },
   "outputs": [],
   "source": [
    "driver=GraphDatabase.driver(uri=\"bolt://localhost:7687/neo4j\")\n",
    "#if database has as userid & pwd, use\n",
    "#driver=GraphDatabase.driver(uri=\"bolt://localhost:7687/neo4j\", auth=(\"neo4j\", \"Password\"))\n",
    "session=driver.session()"
   ]
  },
  {
   "cell_type": "code",
   "execution_count": 4,
   "id": "0e494fe4",
   "metadata": {
    "execution": {
     "iopub.execute_input": "2024-05-03T04:59:07.374432Z",
     "iopub.status.busy": "2024-05-03T04:59:07.374317Z",
     "iopub.status.idle": "2024-05-03T04:59:07.376162Z",
     "shell.execute_reply": "2024-05-03T04:59:07.375918Z"
    },
    "papermill": {
     "duration": 0.003963,
     "end_time": "2024-05-03T04:59:07.377088",
     "exception": false,
     "start_time": "2024-05-03T04:59:07.373125",
     "status": "completed"
    },
    "tags": []
   },
   "outputs": [],
   "source": [
    "def preprocess_result(result):\n",
    "    preprocessed_data = []\n",
    "    for record in result:\n",
    "        preprocessed_data.append(record)\n",
    "    return preprocessed_data[0]"
   ]
  },
  {
   "cell_type": "code",
   "execution_count": 5,
   "id": "5a4d69d0",
   "metadata": {
    "execution": {
     "iopub.execute_input": "2024-05-03T04:59:07.379220Z",
     "iopub.status.busy": "2024-05-03T04:59:07.379110Z",
     "iopub.status.idle": "2024-05-03T04:59:07.406006Z",
     "shell.execute_reply": "2024-05-03T04:59:07.405709Z"
    },
    "papermill": {
     "duration": 0.029152,
     "end_time": "2024-05-03T04:59:07.407035",
     "exception": false,
     "start_time": "2024-05-03T04:59:07.377883",
     "status": "completed"
    },
    "tags": [
     "capture_output"
    ]
   },
   "outputs": [
    {
     "name": "stdout",
     "output_type": "stream",
     "text": [
      "<Record p=<Path start=<Node element_id='4:7aa7e805-ae53-4db8-a2ee-292a1b5b500b:1292' labels=frozenset({'ஒன்றாக'}) properties={'neo4jImportId': 1314, 'lemma': 'வாய் + ஒலி', 'line_text': 'வாயொலி\\tவாய்\\tஒலி', 'annotator': 1, 'line_id': 811}> end=<Node element_id='4:7aa7e805-ae53-4db8-a2ee-292a1b5b500b:1290' labels=frozenset({'பொருட்பெயர்'}) properties={'neo4jImportId': 1312, 'lemma': 'வாயொலி', 'line_text': 'வாயொலி\\tவாய்\\tஒலி', 'annotator': 1, 'line_id': 811}> size=1>>\n"
     ]
    }
   ],
   "source": [
    "query=\"\"\"\n",
    "MATCH p=()-[r:`செருத்தல்`]->()\n",
    "WITH p, RAND() AS random\n",
    "RETURN p\n",
    "ORDER BY random\n",
    "LIMIT 1\n",
    "\"\"\"\n",
    "results=session.run(query)\n",
    "\n",
    "preprocessed_data = preprocess_result(results)\n",
    "\n",
    "print(preprocessed_data)"
   ]
  },
  {
   "cell_type": "code",
   "execution_count": null,
   "id": "755ea792",
   "metadata": {
    "papermill": {
     "duration": 0.001048,
     "end_time": "2024-05-03T04:59:07.409342",
     "exception": false,
     "start_time": "2024-05-03T04:59:07.408294",
     "status": "completed"
    },
    "tags": []
   },
   "outputs": [],
   "source": []
  },
  {
   "cell_type": "code",
   "execution_count": null,
   "id": "4d0ef13e",
   "metadata": {
    "papermill": {
     "duration": 0.001032,
     "end_time": "2024-05-03T04:59:07.411351",
     "exception": false,
     "start_time": "2024-05-03T04:59:07.410319",
     "status": "completed"
    },
    "tags": []
   },
   "outputs": [],
   "source": []
  }
 ],
 "metadata": {
  "celltoolbar": "Tags",
  "kernelspec": {
   "display_name": "Python 3 (ipykernel)",
   "language": "python",
   "name": "python3"
  },
  "language_info": {
   "codemirror_mode": {
    "name": "ipython",
    "version": 3
   },
   "file_extension": ".py",
   "mimetype": "text/x-python",
   "name": "python",
   "nbconvert_exporter": "python",
   "pygments_lexer": "ipython3",
   "version": "3.9.15"
  },
  "papermill": {
   "default_parameters": {},
   "duration": 1.638087,
   "end_time": "2024-05-03T04:59:07.533185",
   "environment_variables": {},
   "exception": null,
   "input_path": "/Users/amarjit/Desktop/FYP/agaNITTyam/neo4j-portal/pirithu.ipynb",
   "output_path": "output.ipynb",
   "parameters": {},
   "start_time": "2024-05-03T04:59:05.895098",
   "version": "2.6.0"
  }
 },
 "nbformat": 4,
 "nbformat_minor": 5
}