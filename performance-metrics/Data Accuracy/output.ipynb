{
 "cells": [
  {
   "cell_type": "code",
   "execution_count": 1,
   "id": "619ad56e",
   "metadata": {
    "execution": {
     "iopub.execute_input": "2024-05-03T09:55:18.667497Z",
     "iopub.status.busy": "2024-05-03T09:55:18.666828Z",
     "iopub.status.idle": "2024-05-03T09:55:19.380405Z",
     "shell.execute_reply": "2024-05-03T09:55:19.379740Z"
    },
    "papermill": {
     "duration": 0.721217,
     "end_time": "2024-05-03T09:55:19.382093",
     "exception": false,
     "start_time": "2024-05-03T09:55:18.660876",
     "status": "completed"
    },
    "tags": []
   },
   "outputs": [
    {
     "name": "stdout",
     "output_type": "stream",
     "text": [
      "Requirement already satisfied: neo4j in /Users/amarjit/Desktop/FYP/venv/lib/python3.9/site-packages (5.19.0)\r\n",
      "Requirement already satisfied: pytz in /Users/amarjit/Desktop/FYP/venv/lib/python3.9/site-packages (from neo4j) (2024.1)\r\n"
     ]
    },
    {
     "name": "stdout",
     "output_type": "stream",
     "text": [
      "Note: you may need to restart the kernel to use updated packages.\n"
     ]
    }
   ],
   "source": [
    "pip install neo4j"
   ]
  },
  {
   "cell_type": "code",
   "execution_count": 2,
   "id": "4195fad7",
   "metadata": {
    "execution": {
     "iopub.execute_input": "2024-05-03T09:55:19.386941Z",
     "iopub.status.busy": "2024-05-03T09:55:19.386710Z",
     "iopub.status.idle": "2024-05-03T09:55:19.464800Z",
     "shell.execute_reply": "2024-05-03T09:55:19.464523Z"
    },
    "papermill": {
     "duration": 0.08174,
     "end_time": "2024-05-03T09:55:19.465950",
     "exception": false,
     "start_time": "2024-05-03T09:55:19.384210",
     "status": "completed"
    },
    "tags": []
   },
   "outputs": [],
   "source": [
    "from neo4j import GraphDatabase"
   ]
  },
  {
   "cell_type": "code",
   "execution_count": 3,
   "id": "bee1f53d",
   "metadata": {
    "execution": {
     "iopub.execute_input": "2024-05-03T09:55:19.468305Z",
     "iopub.status.busy": "2024-05-03T09:55:19.468183Z",
     "iopub.status.idle": "2024-05-03T09:55:19.470127Z",
     "shell.execute_reply": "2024-05-03T09:55:19.469865Z"
    },
    "papermill": {
     "duration": 0.004089,
     "end_time": "2024-05-03T09:55:19.470999",
     "exception": false,
     "start_time": "2024-05-03T09:55:19.466910",
     "status": "completed"
    },
    "tags": []
   },
   "outputs": [],
   "source": [
    "driver=GraphDatabase.driver(uri=\"bolt://localhost:7687/neo4j\")\n",
    "#if database has as userid & pwd, use\n",
    "#driver=GraphDatabase.driver(uri=\"bolt://localhost:7687/neo4j\", auth=(\"neo4j\", \"Password\"))\n",
    "session=driver.session()"
   ]
  },
  {
   "cell_type": "code",
   "execution_count": 4,
   "id": "0e494fe4",
   "metadata": {
    "execution": {
     "iopub.execute_input": "2024-05-03T09:55:19.473100Z",
     "iopub.status.busy": "2024-05-03T09:55:19.472988Z",
     "iopub.status.idle": "2024-05-03T09:55:19.474826Z",
     "shell.execute_reply": "2024-05-03T09:55:19.474567Z"
    },
    "papermill": {
     "duration": 0.003872,
     "end_time": "2024-05-03T09:55:19.475715",
     "exception": false,
     "start_time": "2024-05-03T09:55:19.471843",
     "status": "completed"
    },
    "tags": []
   },
   "outputs": [],
   "source": [
    "def preprocess_result(result):\n",
    "    preprocessed_data = []\n",
    "    for record in result:\n",
    "        preprocessed_data.append(record)\n",
    "    return preprocessed_data[0]"
   ]
  },
  {
   "cell_type": "code",
   "execution_count": 5,
   "id": "5a4d69d0",
   "metadata": {
    "execution": {
     "iopub.execute_input": "2024-05-03T09:55:19.478039Z",
     "iopub.status.busy": "2024-05-03T09:55:19.477921Z",
     "iopub.status.idle": "2024-05-03T09:55:19.484910Z",
     "shell.execute_reply": "2024-05-03T09:55:19.484619Z"
    },
    "papermill": {
     "duration": 0.009228,
     "end_time": "2024-05-03T09:55:19.485826",
     "exception": false,
     "start_time": "2024-05-03T09:55:19.476598",
     "status": "completed"
    },
    "tags": [
     "capture_output"
    ]
   },
   "outputs": [
    {
     "name": "stdout",
     "output_type": "stream",
     "text": [
      "<Record p=<Path start=<Node element_id='4:7aa7e805-ae53-4db8-a2ee-292a1b5b500b:975' labels=frozenset({'ஒன்றாக'}) properties={'neo4jImportId': 991, 'lemma': 'கதிர் + சுடர்', 'line_text': 'கதிர்ச்சுடர் \\tகதிர்\\tசுடர்', 'annotator': 1, 'line_id': 730}> end=<Node element_id='4:7aa7e805-ae53-4db8-a2ee-292a1b5b500b:972' labels=frozenset({'பொருட்பெயர்'}) properties={'neo4jImportId': 988, 'lemma': 'கதிர்ச்சுடர்', 'line_text': 'கதிர்ச்சுடர் \\tகதிர்\\tசுடர்', 'annotator': 1, 'line_id': 730}> size=1>>\n"
     ]
    }
   ],
   "source": [
    "query=\"\"\"\n",
    "MATCH p=()-[r:`செருத்தல்`]->()\n",
    "WITH p, RAND() AS random\n",
    "RETURN p\n",
    "ORDER BY random\n",
    "LIMIT 1\n",
    "\"\"\"\n",
    "results=session.run(query)\n",
    "\n",
    "preprocessed_data = preprocess_result(results)\n",
    "\n",
    "print(preprocessed_data)"
   ]
  },
  {
   "cell_type": "code",
   "execution_count": null,
   "id": "755ea792",
   "metadata": {
    "papermill": {
     "duration": 0.000854,
     "end_time": "2024-05-03T09:55:19.487715",
     "exception": false,
     "start_time": "2024-05-03T09:55:19.486861",
     "status": "completed"
    },
    "tags": []
   },
   "outputs": [],
   "source": []
  },
  {
   "cell_type": "code",
   "execution_count": null,
   "id": "4d0ef13e",
   "metadata": {
    "papermill": {
     "duration": 0.000868,
     "end_time": "2024-05-03T09:55:19.489395",
     "exception": false,
     "start_time": "2024-05-03T09:55:19.488527",
     "status": "completed"
    },
    "tags": []
   },
   "outputs": [],
   "source": []
  }
 ],
 "metadata": {
  "celltoolbar": "Tags",
  "kernelspec": {
   "display_name": "Python 3 (ipykernel)",
   "language": "python",
   "name": "python3"
  },
  "language_info": {
   "codemirror_mode": {
    "name": "ipython",
    "version": 3
   },
   "file_extension": ".py",
   "mimetype": "text/x-python",
   "name": "python",
   "nbconvert_exporter": "python",
   "pygments_lexer": "ipython3",
   "version": "3.9.15"
  },
  "papermill": {
   "default_parameters": {},
   "duration": 1.629412,
   "end_time": "2024-05-03T09:55:19.611065",
   "environment_variables": {},
   "exception": null,
   "input_path": "/Users/amarjit/Desktop/FYP/agaNITTyam/neo4j-portal/pirithu.ipynb",
   "output_path": "output.ipynb",
   "parameters": {},
   "start_time": "2024-05-03T09:55:17.981653",
   "version": "2.6.0"
  }
 },
 "nbformat": 4,
 "nbformat_minor": 5
}